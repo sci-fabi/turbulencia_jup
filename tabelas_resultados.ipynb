{
 "cells": [
  {
   "cell_type": "code",
   "execution_count": null,
   "id": "b5e0cb6a",
   "metadata": {},
   "outputs": [],
   "source": [
    "# Instalando o pacote do PrettyTable"
   ]
  },
  {
   "cell_type": "code",
   "execution_count": 3,
   "id": "72589da7",
   "metadata": {},
   "outputs": [
    {
     "name": "stdout",
     "output_type": "stream",
     "text": [
      "Collecting git+https://github.com/jazzband/prettytable\n",
      "  Cloning https://github.com/jazzband/prettytable to c:\\users\\user\\appdata\\local\\temp\\pip-req-build-nfby2ry5\n",
      "Note: you may need to restart the kernel to use updated packages.  Resolved https://github.com/jazzband/prettytable to commit 32e788f655c4de3f3d60dcba70fa51ec37eca5e5\n",
      "  Installing build dependencies: started\n",
      "  Installing build dependencies: finished with status 'done'\n",
      "  Getting requirements to build wheel: started\n",
      "  Getting requirements to build wheel: finished with status 'done'\n",
      "    Preparing wheel metadata: started\n",
      "    Preparing wheel metadata: finished with status 'done'\n",
      "Requirement already satisfied: wcwidth in c:\\users\\user\\anaconda3\\lib\\site-packages (from prettytable==3.5.1.dev13) (0.2.5)\n",
      "\n"
     ]
    },
    {
     "name": "stderr",
     "output_type": "stream",
     "text": [
      "  Running command git clone -q https://github.com/jazzband/prettytable 'C:\\Users\\User\\AppData\\Local\\Temp\\pip-req-build-nfby2ry5'\n"
     ]
    }
   ],
   "source": [
    "pip install -U git+https://github.com/jazzband/prettytable"
   ]
  },
  {
   "cell_type": "code",
   "execution_count": 1,
   "id": "d3405d49",
   "metadata": {},
   "outputs": [],
   "source": [
    "from prettytable import PrettyTable\n",
    "\n",
    "import matplotlib.pyplot as plt\n",
    "import numpy as np"
   ]
  },
  {
   "cell_type": "markdown",
   "id": "67d24367",
   "metadata": {},
   "source": [
    "## Tabela com resultados dos picos para Magnetosheath"
   ]
  },
  {
   "cell_type": "code",
   "execution_count": 2,
   "id": "f4821042",
   "metadata": {},
   "outputs": [],
   "source": [
    "x = PrettyTable()\n",
    "x.field_names = ['Components', 'Peak 1', 'Peak 2']\n",
    "x.add_rows(\n",
    "    [\n",
    "        ['Br', 11.14201348, ''],\n",
    "        ['Bt', 5.9140635, 13.33342223],\n",
    "        ['Bn', 7.19838746, 11.374372],\n",
    "        ['Bo', 5.99083347, 13.33342223],\n",
    "    ]\n",
    ") "
   ]
  },
  {
   "cell_type": "code",
   "execution_count": 3,
   "id": "cfb5b66d",
   "metadata": {},
   "outputs": [
    {
     "name": "stdout",
     "output_type": "stream",
     "text": [
      "+------------+-------------+-------------+\n",
      "| Components |    Peak 1   |    Peak 2   |\n",
      "+------------+-------------+-------------+\n",
      "|     Br     | 11.14201348 |             |\n",
      "|     Bt     |  5.9140635  | 13.33342223 |\n",
      "|     Bn     |  7.19838746 |  11.374372  |\n",
      "|     Bo     |  5.99083347 | 13.33342223 |\n",
      "+------------+-------------+-------------+\n"
     ]
    }
   ],
   "source": [
    "print(x)"
   ]
  },
  {
   "cell_type": "code",
   "execution_count": 4,
   "id": "59d3ae0e",
   "metadata": {},
   "outputs": [],
   "source": [
    "# Iniciando com a rotina criada para ler o arquivo e converter para dataframe:\n",
    "%run ../rotinas/convert_extension_Dframe.py"
   ]
  },
  {
   "cell_type": "code",
   "execution_count": 5,
   "id": "053a6337",
   "metadata": {},
   "outputs": [],
   "source": [
    "# lendo o arquivo desejado:\n",
    "filename = 'magnetosheath5s.DAT'\n",
    "df = convertDframe(filename)\n",
    "df.columns = ['Time','Br','Bt','Bn','Bo']"
   ]
  },
  {
   "cell_type": "code",
   "execution_count": 6,
   "id": "3fe0e1a4",
   "metadata": {},
   "outputs": [
    {
     "name": "stdout",
     "output_type": "stream",
     "text": [
      "          Br        Bt        Bn        Bo\n",
      "Br  1.000000 -0.183604  0.166039 -0.680020\n",
      "Bt -0.183604  1.000000  0.253584  0.797656\n",
      "Bn  0.166039  0.253584  1.000000 -0.117264\n",
      "Bo -0.680020  0.797656 -0.117264  1.000000\n"
     ]
    }
   ],
   "source": [
    "df.drop(['Time'], axis = 1, inplace = True)\n",
    "matrix = df.corr()\n",
    "print(matrix)"
   ]
  },
  {
   "cell_type": "code",
   "execution_count": null,
   "id": "99a4ddbc",
   "metadata": {},
   "outputs": [],
   "source": []
  },
  {
   "cell_type": "markdown",
   "id": "30a86ed0",
   "metadata": {},
   "source": [
    "## Tabela picos Foreshock"
   ]
  },
  {
   "cell_type": "code",
   "execution_count": 7,
   "id": "872cb576",
   "metadata": {},
   "outputs": [],
   "source": [
    "y = PrettyTable()\n",
    "y.field_names = ['Components', 'Peak 1', 'Peak 2', 'Peak 3', 'Peak 4']\n",
    "y.add_rows(\n",
    "    [\n",
    "        ['Br', 18.86679245, 23.34490272, '', ''],\n",
    "        ['Bt', 23.12, '', '', ''],\n",
    "        ['Bn', 8.72040698, 15.03669173, 6.31541053, 20.06568562],\n",
    "        ['Bo', 29.9982, '', '', ''],\n",
    "    ]\n",
    ") "
   ]
  },
  {
   "cell_type": "code",
   "execution_count": 8,
   "id": "2a51a090",
   "metadata": {},
   "outputs": [
    {
     "name": "stdout",
     "output_type": "stream",
     "text": [
      "+------------+-------------+-------------+------------+-------------+\n",
      "| Components |    Peak 1   |    Peak 2   |   Peak 3   |    Peak 4   |\n",
      "+------------+-------------+-------------+------------+-------------+\n",
      "|     Br     | 18.86679245 | 23.34490272 |            |             |\n",
      "|     Bt     |    23.12    |             |            |             |\n",
      "|     Bn     |  8.72040698 | 15.03669173 | 6.31541053 | 20.06568562 |\n",
      "|     Bo     |   29.9982   |             |            |             |\n",
      "+------------+-------------+-------------+------------+-------------+\n"
     ]
    }
   ],
   "source": [
    "print(y)"
   ]
  },
  {
   "cell_type": "code",
   "execution_count": 9,
   "id": "28c03f3b",
   "metadata": {},
   "outputs": [],
   "source": [
    "# lendo o arquivo desejado:\n",
    "filename = 'foreshock5s.DAT'\n",
    "df = convertDframe(filename)\n",
    "df.columns = ['Time','Br','Bt','Bn','Bo']"
   ]
  },
  {
   "cell_type": "code",
   "execution_count": 10,
   "id": "aa022e39",
   "metadata": {},
   "outputs": [
    {
     "name": "stdout",
     "output_type": "stream",
     "text": [
      "          Br        Bt        Bn        Bo\n",
      "Br  1.000000  0.371155  0.266005 -0.165621\n",
      "Bt  0.371155  1.000000  0.221709  0.611469\n",
      "Bn  0.266005  0.221709  1.000000 -0.397497\n",
      "Bo -0.165621  0.611469 -0.397497  1.000000\n"
     ]
    }
   ],
   "source": [
    "df.drop(['Time'], axis = 1, inplace = True)\n",
    "matrix = df.corr()\n",
    "print(matrix)"
   ]
  },
  {
   "cell_type": "code",
   "execution_count": null,
   "id": "c8fa43f0",
   "metadata": {},
   "outputs": [],
   "source": []
  },
  {
   "cell_type": "markdown",
   "id": "7a04b047",
   "metadata": {},
   "source": [
    "## Tabela picos Background Solar Wind"
   ]
  },
  {
   "cell_type": "code",
   "execution_count": 11,
   "id": "b2f54105",
   "metadata": {},
   "outputs": [],
   "source": [
    "z = PrettyTable()\n",
    "z.field_names = ['Components', 'Peak 1', 'Peak 2']\n",
    "z.add_rows(\n",
    "    [\n",
    "        ['Br', 24.00028802, ''],\n",
    "        ['Bt', 21.5828363, ''],\n",
    "        ['Bn', 21.54408543, ''],\n",
    "        ['Bo', 11.72991425, 17.19183224],\n",
    "    ]\n",
    ") "
   ]
  },
  {
   "cell_type": "code",
   "execution_count": 12,
   "id": "7d6adcdf",
   "metadata": {},
   "outputs": [
    {
     "name": "stdout",
     "output_type": "stream",
     "text": [
      "+------------+-------------+-------------+\n",
      "| Components |    Peak 1   |    Peak 2   |\n",
      "+------------+-------------+-------------+\n",
      "|     Br     | 24.00028802 |             |\n",
      "|     Bt     |  21.5828363 |             |\n",
      "|     Bn     | 21.54408543 |             |\n",
      "|     Bo     | 11.72991425 | 17.19183224 |\n",
      "+------------+-------------+-------------+\n"
     ]
    }
   ],
   "source": [
    "print(z)"
   ]
  },
  {
   "cell_type": "code",
   "execution_count": 13,
   "id": "c6c4abb9",
   "metadata": {},
   "outputs": [],
   "source": [
    "# lendo o arquivo desejado:\n",
    "filename = 'backgroundsw5s.DAT'\n",
    "df = convertDframe(filename)\n",
    "df.columns = ['Time','Br','Bt','Bn','Bo']"
   ]
  },
  {
   "cell_type": "code",
   "execution_count": 14,
   "id": "f824b9f5",
   "metadata": {},
   "outputs": [
    {
     "name": "stdout",
     "output_type": "stream",
     "text": [
      "          Br        Bt        Bn        Bo\n",
      "Br  1.000000 -0.906033 -0.386648 -0.043378\n",
      "Bt -0.906033  1.000000  0.502592  0.235388\n",
      "Bn -0.386648  0.502592  1.000000  0.277601\n",
      "Bo -0.043378  0.235388  0.277601  1.000000\n"
     ]
    }
   ],
   "source": [
    "df.drop(['Time'], axis = 1, inplace = True)\n",
    "matrix = df.corr()\n",
    "print(matrix)"
   ]
  },
  {
   "cell_type": "code",
   "execution_count": null,
   "id": "bdaea3e0",
   "metadata": {},
   "outputs": [],
   "source": []
  }
 ],
 "metadata": {
  "kernelspec": {
   "display_name": "Python 3 (ipykernel)",
   "language": "python",
   "name": "python3"
  },
  "language_info": {
   "codemirror_mode": {
    "name": "ipython",
    "version": 3
   },
   "file_extension": ".py",
   "mimetype": "text/x-python",
   "name": "python",
   "nbconvert_exporter": "python",
   "pygments_lexer": "ipython3",
   "version": "3.9.12"
  }
 },
 "nbformat": 4,
 "nbformat_minor": 5
}
